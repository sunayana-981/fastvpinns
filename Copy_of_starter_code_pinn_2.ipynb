{
  "cells": [
    {
      "cell_type": "markdown",
      "id": "c5b19807",
      "metadata": {
        "papermill": {
          "duration": 0.002781,
          "end_time": "2024-12-11T16:48:29.718515",
          "exception": false,
          "start_time": "2024-12-11T16:48:29.715734",
          "status": "completed"
        },
        "tags": [],
        "id": "c5b19807"
      },
      "source": [
        "**Urban Chemical Safety Challenge: PINN Baseline Notebook**\n",
        "\n",
        "This notebook demonstrates solving the Convection-Diffusion equation using Physics-Informed Neural Networks (PINNs).\n",
        "The solution includes:\n",
        "1. Problem Setup\n",
        "3. PINN Model Definition\n",
        "4. Training Loop\n",
        "6. Submission File Creation"
      ]
    },
    {
      "cell_type": "code",
      "source": [
        "# Install FastVPINNs dependencies and library\n",
        "!mkdir fastvpinns\n",
        "!cd fastvpinns\n",
        "!git init\n",
        "!git remote add origin https://github.com/cmgcds/fastvpinns.git\n",
        "!git fetch --depth=1 origin main\n",
        "!git checkout main"
      ],
      "metadata": {
        "colab": {
          "base_uri": "https://localhost:8080/"
        },
        "id": "g7ria1Qh0QWn",
        "outputId": "24e0f66b-3939-4f22-8f69-e5331e5abd3f"
      },
      "id": "g7ria1Qh0QWn",
      "execution_count": null,
      "outputs": [
        {
          "output_type": "stream",
          "name": "stdout",
          "text": [
            "\u001b[33mhint: Using 'master' as the name for the initial branch. This default branch name\u001b[m\n",
            "\u001b[33mhint: is subject to change. To configure the initial branch name to use in all\u001b[m\n",
            "\u001b[33mhint: of your new repositories, which will suppress this warning, call:\u001b[m\n",
            "\u001b[33mhint: \u001b[m\n",
            "\u001b[33mhint: \tgit config --global init.defaultBranch <name>\u001b[m\n",
            "\u001b[33mhint: \u001b[m\n",
            "\u001b[33mhint: Names commonly chosen instead of 'master' are 'main', 'trunk' and\u001b[m\n",
            "\u001b[33mhint: 'development'. The just-created branch can be renamed via this command:\u001b[m\n",
            "\u001b[33mhint: \u001b[m\n",
            "\u001b[33mhint: \tgit branch -m <name>\u001b[m\n",
            "Initialized empty Git repository in /.git/\n",
            "remote: Enumerating objects: 334, done.\u001b[K\n",
            "remote: Counting objects: 100% (334/334), done.\u001b[K\n",
            "remote: Compressing objects: 100% (301/301), done.\u001b[K\n",
            "error: RPC failed; curl 56 GnuTLS recv error (-9): Error decoding the received TLS packet.\n",
            "error: 6696 bytes of body are still expected\n",
            "fetch-pack: unexpected disconnect while reading sideband packet\n",
            "fatal: early EOF\n",
            "fatal: fetch-pack: invalid index-pack output\n",
            "error: pathspec 'main' did not match any file(s) known to git\n"
          ]
        }
      ]
    },
    {
      "cell_type": "code",
      "source": [
        "from google.colab import drive\n",
        "drive.mount('/content/drive')"
      ],
      "metadata": {
        "colab": {
          "base_uri": "https://localhost:8080/"
        },
        "id": "hIZ5DmwT0qY_",
        "outputId": "3612025c-daea-4c9d-f749-d8ab7274e2c5"
      },
      "id": "hIZ5DmwT0qY_",
      "execution_count": null,
      "outputs": [
        {
          "output_type": "stream",
          "name": "stdout",
          "text": [
            "Drive already mounted at /content/drive; to attempt to forcibly remount, call drive.mount(\"/content/drive\", force_remount=True).\n"
          ]
        }
      ]
    },
    {
      "cell_type": "code",
      "execution_count": null,
      "id": "bc5fffdd",
      "metadata": {
        "execution": {
          "iopub.execute_input": "2024-12-11T16:48:29.724949Z",
          "iopub.status.busy": "2024-12-11T16:48:29.724661Z",
          "iopub.status.idle": "2024-12-11T16:48:41.599583Z",
          "shell.execute_reply": "2024-12-11T16:48:41.598848Z"
        },
        "papermill": {
          "duration": 11.880519,
          "end_time": "2024-12-11T16:48:41.601504",
          "exception": false,
          "start_time": "2024-12-11T16:48:29.720985",
          "status": "completed"
        },
        "tags": [],
        "colab": {
          "base_uri": "https://localhost:8080/",
          "height": 378
        },
        "id": "bc5fffdd",
        "outputId": "2f763c9a-c743-4d77-af9d-a5716c1e61c5"
      },
      "outputs": [
        {
          "output_type": "error",
          "ename": "ModuleNotFoundError",
          "evalue": "No module named 'fastvpinns'",
          "traceback": [
            "\u001b[0;31m---------------------------------------------------------------------------\u001b[0m",
            "\u001b[0;31mModuleNotFoundError\u001b[0m                       Traceback (most recent call last)",
            "\u001b[0;32m<ipython-input-50-7f0450078307>\u001b[0m in \u001b[0;36m<cell line: 2>\u001b[0;34m()\u001b[0m\n\u001b[1;32m      1\u001b[0m \u001b[0;31m# --- IMPORTS ---\u001b[0m\u001b[0;34m\u001b[0m\u001b[0;34m\u001b[0m\u001b[0m\n\u001b[0;32m----> 2\u001b[0;31m \u001b[0;32mfrom\u001b[0m \u001b[0mfastvpinns\u001b[0m \u001b[0;32mimport\u001b[0m \u001b[0mFastVPINN\u001b[0m\u001b[0;34m\u001b[0m\u001b[0;34m\u001b[0m\u001b[0m\n\u001b[0m\u001b[1;32m      3\u001b[0m \u001b[0;32mimport\u001b[0m \u001b[0mtensorflow\u001b[0m \u001b[0;32mas\u001b[0m \u001b[0mtf\u001b[0m\u001b[0;34m\u001b[0m\u001b[0;34m\u001b[0m\u001b[0m\n\u001b[1;32m      4\u001b[0m \u001b[0;32mimport\u001b[0m \u001b[0mnumpy\u001b[0m \u001b[0;32mas\u001b[0m \u001b[0mnp\u001b[0m\u001b[0;34m\u001b[0m\u001b[0;34m\u001b[0m\u001b[0m\n\u001b[1;32m      5\u001b[0m \u001b[0;32mimport\u001b[0m \u001b[0mmatplotlib\u001b[0m\u001b[0;34m.\u001b[0m\u001b[0mpyplot\u001b[0m \u001b[0;32mas\u001b[0m \u001b[0mplt\u001b[0m\u001b[0;34m\u001b[0m\u001b[0;34m\u001b[0m\u001b[0m\n",
            "\u001b[0;31mModuleNotFoundError\u001b[0m: No module named 'fastvpinns'",
            "",
            "\u001b[0;31m---------------------------------------------------------------------------\u001b[0;32m\nNOTE: If your import is failing due to a missing package, you can\nmanually install dependencies using either !pip or !apt.\n\nTo view examples of installing some common dependencies, click the\n\"Open Examples\" button below.\n\u001b[0;31m---------------------------------------------------------------------------\u001b[0m\n"
          ],
          "errorDetails": {
            "actions": [
              {
                "action": "open_url",
                "actionText": "Open Examples",
                "url": "/notebooks/snippets/importing_libraries.ipynb"
              }
            ]
          }
        }
      ],
      "source": [
        "# --- IMPORTS ---\n",
        "from fastvpinns import FastVPINN\n",
        "import tensorflow as tf\n",
        "import numpy as np\n",
        "import matplotlib.pyplot as plt\n",
        "import pandas as pd\n",
        "import os\n",
        "import subprocess"
      ]
    },
    {
      "cell_type": "code",
      "execution_count": null,
      "id": "a1e90423",
      "metadata": {
        "execution": {
          "iopub.execute_input": "2024-12-11T16:48:41.607682Z",
          "iopub.status.busy": "2024-12-11T16:48:41.607217Z",
          "iopub.status.idle": "2024-12-11T16:48:41.612233Z",
          "shell.execute_reply": "2024-12-11T16:48:41.611456Z"
        },
        "papermill": {
          "duration": 0.009721,
          "end_time": "2024-12-11T16:48:41.613862",
          "exception": false,
          "start_time": "2024-12-11T16:48:41.604141",
          "status": "completed"
        },
        "tags": [],
        "id": "a1e90423"
      },
      "outputs": [],
      "source": [
        "# --- CONFIGURABLE PARAMETERS ---\n",
        "# Domain boundaries\n",
        "x_min, x_max = 0.0, 1.0\n",
        "y_min, y_max = 0.0, 1.0\n",
        "eps = 1e-4\n",
        "\n",
        "# Network architecture\n",
        "layers = [2, 50, 50, 50, 1]  # Simpler architecture\n",
        "activation = 'tanh'\n",
        "\n",
        "# Training parameters\n",
        "lr_initial = 0.001\n",
        "lr_decay_rate = 0.99\n",
        "lr_decay_steps = 2000\n",
        "epochs = 10000\n",
        "\n",
        "# Loss weights\n",
        "pde_weight = 1.0\n",
        "bc_weight = 10.0\n",
        "near_boundary_weight = 10.0\n",
        "\n",
        "# Sampling parameters\n",
        "N_interior = 15000  # More focus on interior points\n",
        "N_boundary = 1000\n",
        "N_near_boundary = 500  # Reduced near-boundary points\n",
        "\n",
        "# Early stopping\n",
        "patience = 200\n",
        "min_delta = 1e-6\n",
        "\n",
        "# Remove layer normalization and gradient clipping\n",
        "use_layer_norm = False\n",
        "residual_connections = False\n"
      ]
    },
    {
      "cell_type": "code",
      "execution_count": null,
      "id": "07ba0ada",
      "metadata": {
        "execution": {
          "iopub.execute_input": "2024-12-11T16:48:41.619574Z",
          "iopub.status.busy": "2024-12-11T16:48:41.619246Z",
          "iopub.status.idle": "2024-12-11T16:48:41.623613Z",
          "shell.execute_reply": "2024-12-11T16:48:41.622931Z"
        },
        "papermill": {
          "duration": 0.008938,
          "end_time": "2024-12-11T16:48:41.625153",
          "exception": false,
          "start_time": "2024-12-11T16:48:41.616215",
          "status": "completed"
        },
        "tags": [],
        "id": "07ba0ada"
      },
      "outputs": [],
      "source": [
        "def set_device():\n",
        "    \"\"\"\n",
        "    Configure and select the computational device (GPU/CPU).\n",
        "\n",
        "    Returns:\n",
        "        str: Device identifier ('/GPU:0' or '/CPU:0')\n",
        "    \"\"\"\n",
        "    gpus = tf.config.list_physical_devices('GPU')\n",
        "    if gpus:\n",
        "        print(\"Using GPU\")\n",
        "        for gpu in gpus:\n",
        "            tf.config.experimental.set_memory_growth(gpu, True)\n",
        "        return '/GPU:0'\n",
        "    print(\"Using CPU\")\n",
        "    return '/CPU:0'"
      ]
    },
    {
      "cell_type": "code",
      "execution_count": null,
      "id": "3781d4d3",
      "metadata": {
        "execution": {
          "iopub.execute_input": "2024-12-11T16:48:41.630541Z",
          "iopub.status.busy": "2024-12-11T16:48:41.630309Z",
          "iopub.status.idle": "2024-12-11T16:48:41.881802Z",
          "shell.execute_reply": "2024-12-11T16:48:41.880902Z"
        },
        "papermill": {
          "duration": 0.256397,
          "end_time": "2024-12-11T16:48:41.883849",
          "exception": false,
          "start_time": "2024-12-11T16:48:41.627452",
          "status": "completed"
        },
        "tags": [],
        "colab": {
          "base_uri": "https://localhost:8080/"
        },
        "id": "3781d4d3",
        "outputId": "08e48364-9023-4e30-8e3e-0427e198f7d3"
      },
      "outputs": [
        {
          "output_type": "stream",
          "name": "stdout",
          "text": [
            "Using GPU\n"
          ]
        }
      ],
      "source": [
        "device = set_device()"
      ]
    },
    {
      "cell_type": "code",
      "execution_count": null,
      "id": "37e71a79",
      "metadata": {
        "execution": {
          "iopub.execute_input": "2024-12-11T16:48:41.890605Z",
          "iopub.status.busy": "2024-12-11T16:48:41.890046Z",
          "iopub.status.idle": "2024-12-11T16:48:41.896137Z",
          "shell.execute_reply": "2024-12-11T16:48:41.895326Z"
        },
        "papermill": {
          "duration": 0.01109,
          "end_time": "2024-12-11T16:48:41.897820",
          "exception": false,
          "start_time": "2024-12-11T16:48:41.886730",
          "status": "completed"
        },
        "tags": [],
        "id": "37e71a79"
      },
      "outputs": [],
      "source": [
        "def generate_boundary_points(xmin, xmax, ymin, ymax, num_points):\n",
        "    \"\"\"\n",
        "    Generate training points along the domain boundaries.\n",
        "\n",
        "    Args:\n",
        "        xmin, xmax (float): x-coordinate bounds\n",
        "        ymin, ymax (float): y-coordinate bounds\n",
        "        num_points (int): Total number of boundary points to generate\n",
        "\n",
        "    Returns:\n",
        "        tuple: Arrays of x and y coordinates for boundary points\n",
        "    \"\"\"\n",
        "    num_points_per_edge = num_points // 4\n",
        "    # Generate points for each boundary edge\n",
        "    x_left = np.full((num_points_per_edge, 1), xmin)\n",
        "    y_left = np.random.uniform(ymin, ymax, (num_points_per_edge, 1))\n",
        "    x_right = np.full((num_points_per_edge, 1), xmax)\n",
        "    y_right = np.random.uniform(ymin, ymax, (num_points_per_edge, 1))\n",
        "    x_bottom = np.random.uniform(xmin, xmax, (num_points_per_edge, 1))\n",
        "    y_bottom = np.full((num_points_per_edge, 1), ymin)\n",
        "    x_top = np.random.uniform(xmin, xmax, (num_points_per_edge, 1))\n",
        "    y_top = np.full((num_points_per_edge, 1), ymax)\n",
        "\n",
        "    # Stack all boundary points\n",
        "    x_boundary = np.vstack([x_left, x_right, x_bottom, x_top])\n",
        "    y_boundary = np.vstack([y_left, y_right, y_bottom, y_top])\n",
        "    return x_boundary, y_boundary"
      ]
    },
    {
      "cell_type": "code",
      "execution_count": null,
      "id": "efd9ff0d",
      "metadata": {
        "execution": {
          "iopub.execute_input": "2024-12-11T16:48:41.904868Z",
          "iopub.status.busy": "2024-12-11T16:48:41.904625Z",
          "iopub.status.idle": "2024-12-11T16:48:41.908387Z",
          "shell.execute_reply": "2024-12-11T16:48:41.907624Z"
        },
        "papermill": {
          "duration": 0.008586,
          "end_time": "2024-12-11T16:48:41.909928",
          "exception": false,
          "start_time": "2024-12-11T16:48:41.901342",
          "status": "completed"
        },
        "tags": [],
        "id": "efd9ff0d"
      },
      "outputs": [],
      "source": [
        "def u_bc(x, y):\n",
        "    \"\"\"\n",
        "    Define the Dirichlet boundary condition.\n",
        "\n",
        "    Args:\n",
        "        x (tf.Tensor): x-coordinates of boundary points\n",
        "        y (tf.Tensor): y-coordinates of boundary points\n",
        "\n",
        "    Returns:\n",
        "        tf.Tensor: Boundary values (zero in this case)\n",
        "    \"\"\"\n",
        "    return np.zeros_like(x)"
      ]
    },
    {
      "cell_type": "code",
      "execution_count": null,
      "id": "fdf0b7f7",
      "metadata": {
        "execution": {
          "iopub.execute_input": "2024-12-11T16:48:41.915882Z",
          "iopub.status.busy": "2024-12-11T16:48:41.915636Z",
          "iopub.status.idle": "2024-12-11T16:48:41.921238Z",
          "shell.execute_reply": "2024-12-11T16:48:41.920550Z"
        },
        "papermill": {
          "duration": 0.010386,
          "end_time": "2024-12-11T16:48:41.922806",
          "exception": false,
          "start_time": "2024-12-11T16:48:41.912420",
          "status": "completed"
        },
        "tags": [],
        "id": "fdf0b7f7"
      },
      "outputs": [],
      "source": [
        "def f(x, y):\n",
        "    \"\"\"\n",
        "    Define the forcing function for the PDE.\n",
        "\n",
        "    Args:\n",
        "        x (tf.Tensor): x-coordinates\n",
        "        y (tf.Tensor): y-coordinates\n",
        "\n",
        "    Returns:\n",
        "        tf.Tensor: Values of the forcing function at given points\n",
        "    \"\"\"\n",
        "    return 2*eps*(-x + np.exp(2*(x - 1)/eps)) + x*y**2 + 6*x*y - x*np.exp(3*(y - 1)/eps) - y**2*np.exp(2*(x - 1)/eps) + 2*y**2 - 6*y*np.exp(2*(x - 1)/eps) - 2*np.exp(3*(y - 1)/eps) + np.exp((2*x + 3*y - 5)/eps)\n"
      ]
    },
    {
      "cell_type": "code",
      "execution_count": null,
      "id": "5d63fc85",
      "metadata": {
        "execution": {
          "iopub.execute_input": "2024-12-11T16:48:41.928869Z",
          "iopub.status.busy": "2024-12-11T16:48:41.928640Z",
          "iopub.status.idle": "2024-12-11T16:48:41.935607Z",
          "shell.execute_reply": "2024-12-11T16:48:41.934886Z"
        },
        "papermill": {
          "duration": 0.011802,
          "end_time": "2024-12-11T16:48:41.937160",
          "exception": false,
          "start_time": "2024-12-11T16:48:41.925358",
          "status": "completed"
        },
        "tags": [],
        "id": "5d63fc85"
      },
      "outputs": [],
      "source": [
        "def pde_loss(model, train_interior, eps):\n",
        "    \"\"\"\n",
        "    Calculate the PDE residual loss using automatic differentiation.\n",
        "\n",
        "    Args:\n",
        "        model (tf.keras.Model): Neural network model\n",
        "        train_interior (tf.Tensor): Interior training points\n",
        "        eps (float): Diffusion coefficient\n",
        "\n",
        "    Returns:\n",
        "        tf.Tensor: Mean squared PDE residual\n",
        "    \"\"\"\n",
        "    x = tf.expand_dims(train_interior[:, 0], axis=1)\n",
        "    y = tf.expand_dims(train_interior[:, 1], axis=1)\n",
        "\n",
        "    # Calculate derivatives using automatic differentiation\n",
        "    with tf.GradientTape(persistent=True) as tape1:\n",
        "        tape1.watch(x)\n",
        "        tape1.watch(y)\n",
        "        with tf.GradientTape(persistent=True) as tape2:\n",
        "            tape2.watch(x)\n",
        "            tape2.watch(y)\n",
        "            u = model(tf.concat([x, y], axis=1))\n",
        "        grad_x = tape2.gradient(u, x)  # First derivatives\n",
        "        grad_y = tape2.gradient(u, y)\n",
        "    grad2_x = tape1.gradient(grad_x, x)  # Second derivatives\n",
        "    grad2_y = tape1.gradient(grad_y, y)\n",
        "\n",
        "    # Calculate PDE residual: -eps*(uxx + uyy) + 2*ux + 3*uy - f(x,y)\n",
        "    residual = -eps * (grad2_x + grad2_y) + 2 * grad_x + 3 * grad_y - f(x, y)\n",
        "    return tf.reduce_mean(tf.square(residual))"
      ]
    },
    {
      "cell_type": "code",
      "execution_count": null,
      "id": "aa3c0b1c",
      "metadata": {
        "execution": {
          "iopub.execute_input": "2024-12-11T16:48:41.943052Z",
          "iopub.status.busy": "2024-12-11T16:48:41.942837Z",
          "iopub.status.idle": "2024-12-11T16:48:41.946937Z",
          "shell.execute_reply": "2024-12-11T16:48:41.946252Z"
        },
        "papermill": {
          "duration": 0.008841,
          "end_time": "2024-12-11T16:48:41.948544",
          "exception": false,
          "start_time": "2024-12-11T16:48:41.939703",
          "status": "completed"
        },
        "tags": [],
        "id": "aa3c0b1c"
      },
      "outputs": [],
      "source": [
        "def bc_loss(model, x_bd):\n",
        "    \"\"\"\n",
        "    Calculate the boundary condition loss.\n",
        "\n",
        "    Args:\n",
        "        model (tf.keras.Model): Neural network model\n",
        "        x_bd (tf.Tensor): Boundary points\n",
        "\n",
        "    Returns:\n",
        "        tf.Tensor: Mean squared error at boundary points\n",
        "    \"\"\"\n",
        "    u_pred = model(x_bd)\n",
        "    x = tf.expand_dims(x_bd[:, 0], axis=1)\n",
        "    y = tf.expand_dims(x_bd[:, 1], axis=1)\n",
        "    u_exact = u_bc(x, y)\n",
        "    return tf.reduce_mean(tf.square(u_pred - u_exact))"
      ]
    },
    {
      "cell_type": "code",
      "execution_count": null,
      "id": "36445f0d",
      "metadata": {
        "execution": {
          "iopub.execute_input": "2024-12-11T16:48:41.954599Z",
          "iopub.status.busy": "2024-12-11T16:48:41.954343Z",
          "iopub.status.idle": "2024-12-11T16:48:41.959451Z",
          "shell.execute_reply": "2024-12-11T16:48:41.958717Z"
        },
        "papermill": {
          "duration": 0.009818,
          "end_time": "2024-12-11T16:48:41.960969",
          "exception": false,
          "start_time": "2024-12-11T16:48:41.951151",
          "status": "completed"
        },
        "tags": [],
        "id": "36445f0d"
      },
      "outputs": [],
      "source": [
        "def train(model, epochs, train_interior, train_boundary, eps, beta, lr_initial):\n",
        "    \"\"\"\n",
        "    Train the PINN model.\n",
        "\n",
        "    Args:\n",
        "        model (tf.keras.Model): Neural network model\n",
        "        epochs (int): Number of training epochs\n",
        "        train_interior (tf.Tensor): Interior training points\n",
        "        train_boundary (tf.Tensor): Boundary training points\n",
        "        eps (float): Diffusion coefficient\n",
        "        beta (float): Weight for boundary condition loss\n",
        "        lr_initial (float): Initial learning rate\n",
        "    \"\"\"\n",
        "    optimizer = tf.optimizers.Adam(learning_rate=lr_initial)\n",
        "\n",
        "    for epoch in range(epochs):\n",
        "        # Compute gradients and update model parameters\n",
        "        with tf.GradientTape() as tape:\n",
        "            loss_pde = pde_loss(model, train_interior, eps)\n",
        "            loss_bc = bc_loss(model, train_boundary)\n",
        "            total_loss = loss_pde + beta * loss_bc\n",
        "\n",
        "        grads = tape.gradient(total_loss, model.trainable_variables)\n",
        "        optimizer.apply_gradients(zip(grads, model.trainable_variables))\n",
        "\n",
        "        # Print training progress\n",
        "        if epoch % 100 == 0 or epoch == epochs-1:\n",
        "            print(f\"Epoch {epoch}, Total Loss: {total_loss.numpy()}, PDE Loss: {loss_pde.numpy()}, BC Loss: {loss_bc.numpy()}\")"
      ]
    },
    {
      "cell_type": "code",
      "execution_count": null,
      "id": "b73dd528",
      "metadata": {
        "execution": {
          "iopub.execute_input": "2024-12-11T16:48:41.967038Z",
          "iopub.status.busy": "2024-12-11T16:48:41.966824Z",
          "iopub.status.idle": "2024-12-11T16:48:41.970842Z",
          "shell.execute_reply": "2024-12-11T16:48:41.970155Z"
        },
        "papermill": {
          "duration": 0.008739,
          "end_time": "2024-12-11T16:48:41.972387",
          "exception": false,
          "start_time": "2024-12-11T16:48:41.963648",
          "status": "completed"
        },
        "tags": [],
        "id": "b73dd528"
      },
      "outputs": [],
      "source": [
        "def create_submission(model, test_path, output_path):\n",
        "    \"\"\"\n",
        "    Create submission file with model predictions.\n",
        "\n",
        "    Args:\n",
        "        model (tf.keras.Model): Trained neural network model\n",
        "        test_path (str): Path to test data CSV file\n",
        "        output_path (str): Path for output submission file\n",
        "    \"\"\"\n",
        "    test_data = pd.read_csv(test_path)\n",
        "    xy = test_data[['x', 'y']].values\n",
        "    predictions = model.predict(xy)\n",
        "    test_data['u'] = predictions\n",
        "    test_data.to_csv(output_path, index=False)"
      ]
    },
    {
      "cell_type": "code",
      "execution_count": null,
      "id": "54f5ca14",
      "metadata": {
        "execution": {
          "iopub.execute_input": "2024-12-11T16:48:41.978495Z",
          "iopub.status.busy": "2024-12-11T16:48:41.978217Z",
          "iopub.status.idle": "2024-12-11T16:49:29.437832Z",
          "shell.execute_reply": "2024-12-11T16:49:29.437043Z"
        },
        "papermill": {
          "duration": 47.46476,
          "end_time": "2024-12-11T16:49:29.439777",
          "exception": false,
          "start_time": "2024-12-11T16:48:41.975017",
          "status": "completed"
        },
        "tags": [],
        "colab": {
          "base_uri": "https://localhost:8080/"
        },
        "id": "54f5ca14",
        "outputId": "d1033de1-41e0-4333-fbbf-ff66f416b8d0"
      },
      "outputs": [
        {
          "metadata": {
            "tags": null
          },
          "name": "stderr",
          "output_type": "stream",
          "text": [
            "/usr/local/lib/python3.10/dist-packages/keras/src/layers/core/input_layer.py:26: UserWarning: Argument `input_shape` is deprecated. Use `shape` instead.\n",
            "  warnings.warn(\n"
          ]
        },
        {
          "output_type": "stream",
          "name": "stdout",
          "text": [
            "Epoch 0, Total Loss: 6.146156311035156, PDE Loss: 5.951121807098389, BC Loss: 0.03900687396526337\n",
            "Epoch 100, Total Loss: 0.6030737161636353, PDE Loss: 0.2394435554742813, BC Loss: 0.07272603362798691\n",
            "Epoch 200, Total Loss: 0.48991960287094116, PDE Loss: 0.1201016753911972, BC Loss: 0.07396358251571655\n",
            "Epoch 300, Total Loss: 0.4117259383201599, PDE Loss: 0.07314594089984894, BC Loss: 0.06771599501371384\n",
            "Epoch 400, Total Loss: 0.39483001828193665, PDE Loss: 0.04224011301994324, BC Loss: 0.07051797956228256\n",
            "Epoch 500, Total Loss: 0.3783321678638458, PDE Loss: 0.04328598454594612, BC Loss: 0.06700923293828964\n",
            "Epoch 600, Total Loss: 0.37165939807891846, PDE Loss: 0.04616701230406761, BC Loss: 0.06509847939014435\n",
            "Epoch 700, Total Loss: 0.36633598804473877, PDE Loss: 0.03229809179902077, BC Loss: 0.0668075829744339\n",
            "Epoch 800, Total Loss: 0.3643454313278198, PDE Loss: 0.036483291536569595, BC Loss: 0.06557242572307587\n",
            "Epoch 900, Total Loss: 0.3622533082962036, PDE Loss: 0.028831951320171356, BC Loss: 0.06668426841497421\n",
            "Epoch 1000, Total Loss: 0.36111897230148315, PDE Loss: 0.02600095048546791, BC Loss: 0.06702360510826111\n",
            "Epoch 1100, Total Loss: 0.3603011667728424, PDE Loss: 0.026794666424393654, BC Loss: 0.06670130044221878\n",
            "Epoch 1200, Total Loss: 0.35968202352523804, PDE Loss: 0.02681971900165081, BC Loss: 0.06657246500253677\n",
            "Epoch 1300, Total Loss: 0.3592672049999237, PDE Loss: 0.02590426243841648, BC Loss: 0.06667258590459824\n",
            "Epoch 1400, Total Loss: 0.3589394986629486, PDE Loss: 0.02639472670853138, BC Loss: 0.0665089562535286\n",
            "Epoch 1500, Total Loss: 0.35866662859916687, PDE Loss: 0.02625950612127781, BC Loss: 0.06648142635822296\n",
            "Epoch 1600, Total Loss: 0.37269505858421326, PDE Loss: 0.008070794865489006, BC Loss: 0.07292485237121582\n",
            "Epoch 1700, Total Loss: 0.3582507371902466, PDE Loss: 0.02602093480527401, BC Loss: 0.0664459615945816\n",
            "Epoch 1800, Total Loss: 0.3580563962459564, PDE Loss: 0.025975411757826805, BC Loss: 0.0664161965250969\n",
            "Epoch 1900, Total Loss: 0.3578677773475647, PDE Loss: 0.025881974026560783, BC Loss: 0.06639716029167175\n",
            "Epoch 2000, Total Loss: 0.35775458812713623, PDE Loss: 0.027219757437705994, BC Loss: 0.06610696017742157\n",
            "Epoch 2100, Total Loss: 0.3575606346130371, PDE Loss: 0.025770967826247215, BC Loss: 0.06635793298482895\n",
            "Epoch 2200, Total Loss: 0.3573927581310272, PDE Loss: 0.025690287351608276, BC Loss: 0.06634049117565155\n",
            "Epoch 2300, Total Loss: 0.3770412504673004, PDE Loss: 0.08005490899085999, BC Loss: 0.059397269040346146\n",
            "Epoch 2400, Total Loss: 0.357088178396225, PDE Loss: 0.025258924812078476, BC Loss: 0.06636585295200348\n",
            "Epoch 2500, Total Loss: 0.35691964626312256, PDE Loss: 0.02553117275238037, BC Loss: 0.06627769768238068\n",
            "Epoch 2600, Total Loss: 0.35674965381622314, PDE Loss: 0.025981388986110687, BC Loss: 0.06615365296602249\n",
            "Epoch 2700, Total Loss: 0.35660600662231445, PDE Loss: 0.02605370618402958, BC Loss: 0.06611046195030212\n",
            "Epoch 2800, Total Loss: 0.3564275801181793, PDE Loss: 0.025412658229470253, BC Loss: 0.06620298326015472\n",
            "Epoch 2900, Total Loss: 0.3563491404056549, PDE Loss: 0.028098633512854576, BC Loss: 0.0656500980257988\n",
            "Epoch 3000, Total Loss: 0.35610559582710266, PDE Loss: 0.025753898546099663, BC Loss: 0.06607034057378769\n",
            "Epoch 3100, Total Loss: 0.3559318780899048, PDE Loss: 0.025316981598734856, BC Loss: 0.06612297892570496\n",
            "Epoch 3200, Total Loss: 0.3557605743408203, PDE Loss: 0.025407785549759865, BC Loss: 0.066070556640625\n",
            "Epoch 3300, Total Loss: 0.3556530475616455, PDE Loss: 0.026477590203285217, BC Loss: 0.06583509594202042\n",
            "Epoch 3400, Total Loss: 0.3554876446723938, PDE Loss: 0.025254610925912857, BC Loss: 0.06604661047458649\n",
            "Epoch 3500, Total Loss: 0.3553515374660492, PDE Loss: 0.02523026615381241, BC Loss: 0.06602425873279572\n",
            "Epoch 3600, Total Loss: 0.3557426631450653, PDE Loss: 0.019944844767451286, BC Loss: 0.06715956330299377\n",
            "Epoch 3700, Total Loss: 0.355170875787735, PDE Loss: 0.025217324495315552, BC Loss: 0.06599070876836777\n",
            "Epoch 3800, Total Loss: 0.3550790250301361, PDE Loss: 0.025175785645842552, BC Loss: 0.06598065048456192\n",
            "Epoch 3900, Total Loss: 0.3549959659576416, PDE Loss: 0.0251499991863966, BC Loss: 0.06596919149160385\n",
            "Epoch 4000, Total Loss: 0.3553132116794586, PDE Loss: 0.02044183388352394, BC Loss: 0.06697427481412888\n",
            "Epoch 4100, Total Loss: 0.35488611459732056, PDE Loss: 0.025111312046647072, BC Loss: 0.06595496088266373\n",
            "Epoch 4200, Total Loss: 0.3548242449760437, PDE Loss: 0.025085628032684326, BC Loss: 0.06594772636890411\n",
            "Epoch 4300, Total Loss: 0.3654308021068573, PDE Loss: 0.007146674674004316, BC Loss: 0.07165682315826416\n",
            "Epoch 4400, Total Loss: 0.35474589467048645, PDE Loss: 0.02520778775215149, BC Loss: 0.06590761989355087\n",
            "Epoch 4500, Total Loss: 0.3546938896179199, PDE Loss: 0.025024114176630974, BC Loss: 0.065933957695961\n",
            "Epoch 4600, Total Loss: 0.35464441776275635, PDE Loss: 0.024998249486088753, BC Loss: 0.06592923402786255\n",
            "Epoch 4700, Total Loss: 0.35464367270469666, PDE Loss: 0.026030195876955986, BC Loss: 0.06572269648313522\n",
            "Epoch 4800, Total Loss: 0.3545800447463989, PDE Loss: 0.024993285536766052, BC Loss: 0.06591735035181046\n",
            "Epoch 4900, Total Loss: 0.35453587770462036, PDE Loss: 0.024940265342593193, BC Loss: 0.06591912358999252\n",
            "Epoch 5000, Total Loss: 0.35842061042785645, PDE Loss: 0.044899944216012955, BC Loss: 0.06270413100719452\n",
            "Epoch 5100, Total Loss: 0.35448476672172546, PDE Loss: 0.025354402139782906, BC Loss: 0.06582607328891754\n",
            "Epoch 5200, Total Loss: 0.35444146394729614, PDE Loss: 0.024889126420021057, BC Loss: 0.0659104734659195\n",
            "Epoch 5300, Total Loss: 0.3544027507305145, PDE Loss: 0.02487078681588173, BC Loss: 0.06590639054775238\n",
            "Epoch 5400, Total Loss: 0.3559342622756958, PDE Loss: 0.016001567244529724, BC Loss: 0.06798654049634933\n",
            "Epoch 5500, Total Loss: 0.3543507754802704, PDE Loss: 0.024876315146684647, BC Loss: 0.06589488685131073\n",
            "Epoch 5600, Total Loss: 0.3543154299259186, PDE Loss: 0.024825362488627434, BC Loss: 0.06589801609516144\n",
            "Epoch 5700, Total Loss: 0.3600952625274658, PDE Loss: 0.050071295350790024, BC Loss: 0.06200478971004486\n",
            "Epoch 5800, Total Loss: 0.3542745113372803, PDE Loss: 0.02448044903576374, BC Loss: 0.06595881283283234\n",
            "Epoch 5900, Total Loss: 0.35424086451530457, PDE Loss: 0.02479049563407898, BC Loss: 0.06589007377624512\n",
            "Epoch 6000, Total Loss: 0.35421034693717957, PDE Loss: 0.024776965379714966, BC Loss: 0.06588667631149292\n",
            "Epoch 6100, Total Loss: 0.3550092875957489, PDE Loss: 0.01799943670630455, BC Loss: 0.06740196794271469\n",
            "Epoch 6200, Total Loss: 0.3541703224182129, PDE Loss: 0.024812057614326477, BC Loss: 0.06587165594100952\n",
            "Epoch 6300, Total Loss: 0.3541426956653595, PDE Loss: 0.024748165160417557, BC Loss: 0.06587890535593033\n",
            "Epoch 6400, Total Loss: 0.36113181710243225, PDE Loss: 0.05299529805779457, BC Loss: 0.06162730231881142\n",
            "Epoch 6500, Total Loss: 0.3541085720062256, PDE Loss: 0.024716012179851532, BC Loss: 0.06587851047515869\n",
            "Epoch 6600, Total Loss: 0.35408324003219604, PDE Loss: 0.02472638711333275, BC Loss: 0.06587137281894684\n",
            "Epoch 6700, Total Loss: 0.3540586531162262, PDE Loss: 0.024681592360138893, BC Loss: 0.06587541103363037\n",
            "Epoch 6800, Total Loss: 0.3540707528591156, PDE Loss: 0.023556550964713097, BC Loss: 0.06610284000635147\n",
            "Epoch 6900, Total Loss: 0.3540264666080475, PDE Loss: 0.02470383234322071, BC Loss: 0.06586452573537827\n",
            "Epoch 7000, Total Loss: 0.3540034592151642, PDE Loss: 0.024700289592146873, BC Loss: 0.06586063653230667\n",
            "Epoch 7100, Total Loss: 0.3540625274181366, PDE Loss: 0.022636039182543755, BC Loss: 0.06628529727458954\n",
            "Epoch 7200, Total Loss: 0.3539726138114929, PDE Loss: 0.024670399725437164, BC Loss: 0.06586044281721115\n",
            "Epoch 7300, Total Loss: 0.3539507985115051, PDE Loss: 0.02468956634402275, BC Loss: 0.06585224717855453\n",
            "Epoch 7400, Total Loss: 0.3552701473236084, PDE Loss: 0.016327278688549995, BC Loss: 0.06778857111930847\n",
            "Epoch 7500, Total Loss: 0.3539222478866577, PDE Loss: 0.02461801841855049, BC Loss: 0.06586084514856339\n",
            "Epoch 7600, Total Loss: 0.35390138626098633, PDE Loss: 0.024678438901901245, BC Loss: 0.0658445879817009\n",
            "Epoch 7700, Total Loss: 0.35522574186325073, PDE Loss: 0.01615024358034134, BC Loss: 0.06781510263681412\n",
            "Epoch 7800, Total Loss: 0.35387691855430603, PDE Loss: 0.024383744224905968, BC Loss: 0.06589863449335098\n",
            "Epoch 7900, Total Loss: 0.3538557291030884, PDE Loss: 0.02466787025332451, BC Loss: 0.06583757698535919\n",
            "Epoch 8000, Total Loss: 0.3538362979888916, PDE Loss: 0.02466234751045704, BC Loss: 0.06583479046821594\n",
            "Epoch 8100, Total Loss: 0.3538395166397095, PDE Loss: 0.02538197487592697, BC Loss: 0.0656915083527565\n",
            "Epoch 8200, Total Loss: 0.353810578584671, PDE Loss: 0.024622326716780663, BC Loss: 0.06583765149116516\n",
            "Epoch 8300, Total Loss: 0.3537921905517578, PDE Loss: 0.024656161665916443, BC Loss: 0.06582720577716827\n",
            "Epoch 8400, Total Loss: 0.3557133078575134, PDE Loss: 0.01477407943457365, BC Loss: 0.06818784773349762\n",
            "Epoch 8500, Total Loss: 0.35376930236816406, PDE Loss: 0.024581164121627808, BC Loss: 0.06583762913942337\n",
            "Epoch 8600, Total Loss: 0.35375237464904785, PDE Loss: 0.024650687351822853, BC Loss: 0.06582033634185791\n",
            "Epoch 8700, Total Loss: 0.3537429869174957, PDE Loss: 0.02394678257405758, BC Loss: 0.06595923751592636\n",
            "Epoch 8800, Total Loss: 0.3537411093711853, PDE Loss: 0.025216881185770035, BC Loss: 0.065704844892025\n",
            "Epoch 8900, Total Loss: 0.35372090339660645, PDE Loss: 0.024647371843457222, BC Loss: 0.06581470370292664\n",
            "Epoch 9000, Total Loss: 0.353706032037735, PDE Loss: 0.024645356461405754, BC Loss: 0.0658121332526207\n",
            "Epoch 9100, Total Loss: 0.3536916673183441, PDE Loss: 0.024643097072839737, BC Loss: 0.0658097118139267\n",
            "Epoch 9200, Total Loss: 0.3562927842140198, PDE Loss: 0.013456451706588268, BC Loss: 0.06856726109981537\n",
            "Epoch 9300, Total Loss: 0.3536801338195801, PDE Loss: 0.024741031229496002, BC Loss: 0.06578782200813293\n",
            "Epoch 9400, Total Loss: 0.35366708040237427, PDE Loss: 0.024643518030643463, BC Loss: 0.06580471247434616\n",
            "Epoch 9500, Total Loss: 0.353654682636261, PDE Loss: 0.02464049495756626, BC Loss: 0.06580283492803574\n",
            "Epoch 9600, Total Loss: 0.35364261269569397, PDE Loss: 0.024640429764986038, BC Loss: 0.06580043584108353\n",
            "Epoch 9700, Total Loss: 0.3538520336151123, PDE Loss: 0.028705304488539696, BC Loss: 0.06502934545278549\n",
            "Epoch 9800, Total Loss: 0.35362735390663147, PDE Loss: 0.024607665836811066, BC Loss: 0.06580393761396408\n",
            "Epoch 9900, Total Loss: 0.3536163866519928, PDE Loss: 0.02463720552623272, BC Loss: 0.06579583883285522\n",
            "Epoch 9999, Total Loss: 0.36630627512931824, PDE Loss: 0.06540847569704056, BC Loss: 0.060179561376571655\n"
          ]
        }
      ],
      "source": [
        "# --- MAIN EXECUTION ---\n",
        "# Generate interior training points\n",
        "x_train_interior = np.random.uniform(x_min, x_max, (N_interior, 1))\n",
        "y_train_interior = np.random.uniform(y_min, y_max, (N_interior, 1))\n",
        "train_interior = tf.convert_to_tensor(np.hstack([x_train_interior, y_train_interior]), dtype=tf.float32)\n",
        "\n",
        "# Generate boundary training points\n",
        "x_boundary, y_boundary = generate_boundary_points(x_min, x_max, y_min, y_max, N_boundary)\n",
        "train_boundary = tf.convert_to_tensor(np.hstack([x_boundary, y_boundary]), dtype=tf.float32)\n",
        "\n",
        "# Create and train model on specified device\n",
        "with tf.device(device):\n",
        "    # Define neural network architecture\n",
        "    model = tf.keras.Sequential([\n",
        "        tf.keras.layers.InputLayer(input_shape=(2,)),\n",
        "        *[tf.keras.layers.Dense(units, activation='tanh') for units in layers[1:-1]],\n",
        "        tf.keras.layers.Dense(1)\n",
        "    ])\n",
        "\n",
        "    # Train the model\n",
        "    train(model, epochs, train_interior, train_boundary, eps, beta, lr_initial)"
      ]
    },
    {
      "cell_type": "code",
      "source": [
        "def create_submission(model, test_path, output_path):\n",
        "    \"\"\"\n",
        "    Create submission file with model predictions.\n",
        "\n",
        "    Args:\n",
        "        model (tf.keras.Model): Trained neural network model\n",
        "        test_path (str): Path to test data CSV file\n",
        "        output_path (str): Path for output submission file\n",
        "    \"\"\"\n",
        "    test_data = pd.read_csv(test_path)\n",
        "    xy = test_data[['x', 'y']].values\n",
        "    predictions = model.predict(xy)\n",
        "    test_data['u'] = predictions\n",
        "    # Modify the output path to include a filename\n",
        "    output_file = os.path.join(output_path, 'submission3.csv')  # Add filename to the path\n",
        "    test_data.to_csv(output_file, index=False) # Saving to the file"
      ],
      "metadata": {
        "id": "JI_dXV3mnp4P"
      },
      "id": "JI_dXV3mnp4P",
      "execution_count": null,
      "outputs": []
    },
    {
      "cell_type": "code",
      "execution_count": null,
      "id": "69559e30",
      "metadata": {
        "execution": {
          "iopub.execute_input": "2024-12-11T16:49:29.447520Z",
          "iopub.status.busy": "2024-12-11T16:49:29.447213Z",
          "iopub.status.idle": "2024-12-11T16:49:38.124347Z",
          "shell.execute_reply": "2024-12-11T16:49:38.123381Z"
        },
        "papermill": {
          "duration": 8.683191,
          "end_time": "2024-12-11T16:49:38.126392",
          "exception": false,
          "start_time": "2024-12-11T16:49:29.443201",
          "status": "completed"
        },
        "tags": [],
        "colab": {
          "base_uri": "https://localhost:8080/"
        },
        "id": "69559e30",
        "outputId": "29a9d200-32ca-4f6c-f38d-6fa22b0c8a58"
      },
      "outputs": [
        {
          "output_type": "stream",
          "name": "stdout",
          "text": [
            "\u001b[1m5000/5000\u001b[0m \u001b[32m━━━━━━━━━━━━━━━━━━━━\u001b[0m\u001b[37m\u001b[0m \u001b[1m6s\u001b[0m 1ms/step\n"
          ]
        }
      ],
      "source": [
        "test_path = 'test.csv'\n",
        "submission_path = 'submissions/'\n",
        "\n",
        "os.makedirs(submission_path, exist_ok=True)  # Create the directory if it doesn't exist\n",
        "\n",
        "create_submission(model, test_path, submission_path)  # Generating csv file for submission"
      ]
    },
    {
      "source": [],
      "cell_type": "code",
      "metadata": {
        "id": "sBiLkgAxgLhw"
      },
      "id": "sBiLkgAxgLhw",
      "execution_count": null,
      "outputs": []
    }
  ],
  "metadata": {
    "kaggle": {
      "accelerator": "nvidiaTeslaT4",
      "dataSources": [
        {
          "databundleVersionId": 10433199,
          "sourceId": 89841,
          "sourceType": "competition"
        }
      ],
      "dockerImageVersionId": 30804,
      "isGpuEnabled": true,
      "isInternetEnabled": true,
      "language": "python",
      "sourceType": "notebook"
    },
    "kernelspec": {
      "display_name": "Python 3",
      "name": "python3"
    },
    "language_info": {
      "codemirror_mode": {
        "name": "ipython",
        "version": 3
      },
      "file_extension": ".py",
      "mimetype": "text/x-python",
      "name": "python",
      "nbconvert_exporter": "python",
      "pygments_lexer": "ipython3",
      "version": "3.10.14"
    },
    "papermill": {
      "default_parameters": {},
      "duration": 72.391762,
      "end_time": "2024-12-11T16:49:39.756124",
      "environment_variables": {},
      "exception": null,
      "input_path": "__notebook__.ipynb",
      "output_path": "__notebook__.ipynb",
      "parameters": {},
      "start_time": "2024-12-11T16:48:27.364362",
      "version": "2.6.0"
    },
    "colab": {
      "provenance": [],
      "gpuType": "T4"
    },
    "accelerator": "GPU"
  },
  "nbformat": 4,
  "nbformat_minor": 5
}